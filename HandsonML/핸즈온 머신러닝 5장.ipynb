{
 "cells": [
  {
   "cell_type": "markdown",
   "id": "84af6866",
   "metadata": {},
   "source": [
    "# 5장 서포트 벡터 머신"
   ]
  },
  {
   "cell_type": "markdown",
   "id": "fedc2ba4",
   "metadata": {},
   "source": [
    "## 5.1 선형 SVM 분류"
   ]
  },
  {
   "cell_type": "markdown",
   "id": "71bda550",
   "metadata": {},
   "source": [
    "### 5.1.1 소프트 마진 분류"
   ]
  },
  {
   "cell_type": "markdown",
   "id": "832362bb",
   "metadata": {},
   "source": [
    "하드 마진 분류: 모든 샘플이 도로 바깥쪽에 올바르게 분류 \n",
    "### \n",
    "데이터가 선형적으로 구분될 수 있어야 제대로 작동, 이상치에 민감함 "
   ]
  },
  {
   "cell_type": "markdown",
   "id": "2d26df10",
   "metadata": {},
   "source": [
    "소프트 마진 분류: 도로의 폭을 가능한 한 넓게 유지하는 것과 마진 오류 사이에 적절한 균형"
   ]
  },
  {
   "cell_type": "code",
   "execution_count": 1,
   "id": "6c14c1da",
   "metadata": {},
   "outputs": [
    {
     "data": {
      "text/plain": [
       "Pipeline(steps=[('scaler', StandardScaler()),\n",
       "                ('linear_svc', LinearSVC(C=1, loss='hinge'))])"
      ]
     },
     "execution_count": 1,
     "metadata": {},
     "output_type": "execute_result"
    }
   ],
   "source": [
    "## 붓꽃 데이터셋을 적재하고, 특성 스케일을 변경하고, Iris-Vriginia 품종을 감지하기 위해 선형 SVM 모델을 훈련 \n",
    "## C=1과 잠시 후에 설명할 힌지 손실함수를 적용한 LinearSVC 클래스를 사용한다. \n",
    "import numpy as np\n",
    "from sklearn import datasets\n",
    "from sklearn.pipeline import Pipeline\n",
    "from sklearn.preprocessing import StandardScaler\n",
    "from sklearn.svm import LinearSVC\n",
    "\n",
    "iris = datasets.load_iris()\n",
    "X = iris[\"data\"][:,(2,3)] # 꽃잎 길이, 꽃잎 너비 \n",
    "y = (iris[\"target\"]==2).astype(np.float64) # Iris-virginica\n",
    "\n",
    "svm_clf = Pipeline([\n",
    "    (\"scaler\", StandardScaler()),\n",
    "    (\"linear_svc\", LinearSVC(C=1, loss='hinge'))\n",
    "])\n",
    "\n",
    "svm_clf.fit(X,y)"
   ]
  },
  {
   "cell_type": "code",
   "execution_count": 2,
   "id": "0c8b2719",
   "metadata": {},
   "outputs": [
    {
     "data": {
      "text/plain": [
       "array([1.])"
      ]
     },
     "execution_count": 2,
     "metadata": {},
     "output_type": "execute_result"
    }
   ],
   "source": [
    "svm_clf.predict([[5.5,1.7]])"
   ]
  },
  {
   "cell_type": "markdown",
   "id": "38ed7645",
   "metadata": {},
   "source": [
    "#### LinearSVC 클래스를 대신 선형 커널을 사용하는 SVC클래스로 대체할 수 있다.\n",
    "#### SVC모델을 만들 때 SVC(kernal=\"linear\", C=1)라고 쓴다. \n",
    "#### 또 다른 방법은 SGDClassifier(loss=\"hinge\", alpha=1/(m*C))^4와 같이 SGDClassifier모델을 사용하는 것이다."
   ]
  },
  {
   "cell_type": "markdown",
   "id": "df2e7dbb",
   "metadata": {},
   "source": [
    "### 5.2 비선형 SVM 분류"
   ]
  },
  {
   "cell_type": "markdown",
   "id": "77a454a9",
   "metadata": {},
   "source": [
    "비선형 데이터셋을 다루는 한 가지 방법은 다항 특성과 같은 특성을 추가하는 것"
   ]
  },
  {
   "cell_type": "code",
   "execution_count": 3,
   "id": "094ca99e",
   "metadata": {},
   "outputs": [
    {
     "name": "stderr",
     "output_type": "stream",
     "text": [
      "C:\\Users\\renelee\\anaconda3\\lib\\site-packages\\sklearn\\svm\\_base.py:1206: ConvergenceWarning: Liblinear failed to converge, increase the number of iterations.\n",
      "  warnings.warn(\n"
     ]
    },
    {
     "data": {
      "text/plain": [
       "Pipeline(steps=[('poly_features', PolynomialFeatures(degree=3)),\n",
       "                ('scaler', StandardScaler()),\n",
       "                ('svc_clf', LinearSVC(C=10, loss='hinge'))])"
      ]
     },
     "execution_count": 3,
     "metadata": {},
     "output_type": "execute_result"
    }
   ],
   "source": [
    "## 사이킷런을 사용하여 이를 구현하려면 (4.3절 '다항회귀'에서 소개한) PolynomialFeatures변환기와\n",
    "## StandardScaler, LinearSVC를 연결하여 Pipeline을 만든다. \n",
    "from sklearn.datasets import make_moons\n",
    "from sklearn.pipeline import Pipeline\n",
    "from sklearn.preprocessing import PolynomialFeatures\n",
    "\n",
    "X,y = make_moons(n_samples=100, noise=0.15)\n",
    "polynomial_svm_clf = Pipeline([\n",
    "    (\"poly_features\", PolynomialFeatures(degree=3)),\n",
    "    (\"scaler\", StandardScaler()),\n",
    "    (\"svc_clf\", LinearSVC(C=10, loss=\"hinge\"))\n",
    "])\n",
    "\n",
    "polynomial_svm_clf.fit(X,y)"
   ]
  },
  {
   "cell_type": "markdown",
   "id": "38992bde",
   "metadata": {},
   "source": [
    "### 5.2.1 다항식 커널"
   ]
  },
  {
   "cell_type": "markdown",
   "id": "93016483",
   "metadata": {},
   "source": [
    "커널 트릭 : 실제로는 특성을 추가하지 않으면서 다항식 특성을 많이 추가한 것과 같은 결과를 얻을 수 있음"
   ]
  },
  {
   "cell_type": "code",
   "execution_count": 5,
   "id": "61153a4a",
   "metadata": {},
   "outputs": [
    {
     "data": {
      "text/plain": [
       "Pipeline(steps=[('scaler', StandardScaler()),\n",
       "                ('svm_clf', SVC(C=5, coef0=1, kernel='poly'))])"
      ]
     },
     "execution_count": 5,
     "metadata": {},
     "output_type": "execute_result"
    }
   ],
   "source": [
    "from sklearn.svm import SVC\n",
    "poly_kernal_svm_clf = Pipeline([\n",
    "    (\"scaler\", StandardScaler()),\n",
    "    (\"svm_clf\", SVC(kernel=\"poly\", degree=3, coef0=1, C=5)) # 3차 다항식 커널 사용해 SVM분류기를 훈련 \n",
    "])\n",
    "poly_kernal_svm_clf.fit(X,y)\n",
    "\n",
    "## 과대적합이라면 다항식의 차수를 줄여야 하고 과소적합이면 차수를 늘려야 함 \n",
    "## 매개변수 coef0은 모델이 높은 차수와 낮은 차수에 얼마나 영향을 받을지 조절한다. "
   ]
  },
  {
   "cell_type": "markdown",
   "id": "1c08b8be",
   "metadata": {},
   "source": [
    "### 5.2.2 유사도 특성 "
   ]
  },
  {
   "cell_type": "markdown",
   "id": "fb75a57e",
   "metadata": {},
   "source": [
    "비선형 특성을 다루는 또 다른 기법은 각 샘플이 특정 랜드마크와 얼마나 닮았는지 측정하는 유사도 함수로 계산한 특성을 추가하는 것 \n",
    "### \n",
    "랜드마크를 선택하는 방법: 데이터셋에 있는 모든 샘플 위치에 랜드마크 설정. 이렇게 하면 차원이 매우 커지고 따라서 변환된 훈련 세트가 선형적으로 구분될 가능성이 높음. 단점은 훈련 세트에 있는 n개의 특성을 가진 m개의 샘플이 m개의 특성을 가진 m개의 샘플로 변환된다는 것. 훈련 세트가 매우 클 경우 동일한 크기의 아주 많은 특성이 만들어짐."
   ]
  },
  {
   "cell_type": "markdown",
   "id": "2b3b4c55",
   "metadata": {},
   "source": [
    "### 5.2.3 가우시안 RBF 커널"
   ]
  },
  {
   "cell_type": "markdown",
   "id": "7a8a1cc3",
   "metadata": {},
   "source": [
    "다항 특성 방식과 마찬가지로 유사도 특성 방식도 머신러닝 알고리즘에 유용하게 사용될 수 있다. 추가 특성을 모두 계산하려면 연산 비용이 많이 드는데 특히 훈련세트가 클 경우 더 그렇다. 여기서 커널 트릭이 한 번 더 SVM의 마법을 만든다. 유사도 특성을 많이 추가하는 것과 같은 비슷한 결과를 얻을 수 있다. "
   ]
  },
  {
   "cell_type": "code",
   "execution_count": 6,
   "id": "caa4528d",
   "metadata": {},
   "outputs": [
    {
     "data": {
      "text/plain": [
       "Pipeline(steps=[('scaler', StandardScaler()),\n",
       "                ('svm_clf', SVC(C=0.001, gamma=5))])"
      ]
     },
     "execution_count": 6,
     "metadata": {},
     "output_type": "execute_result"
    }
   ],
   "source": [
    "rbf_kernel_svm_clf = Pipeline([\n",
    "    (\"scaler\", StandardScaler()),\n",
    "    (\"svm_clf\",SVC(kernel=\"rbf\", gamma=5, C=0.001))\n",
    "])\n",
    "rbf_kernel_svm_clf.fit(X,y)"
   ]
  },
  {
   "cell_type": "markdown",
   "id": "5b6205a6",
   "metadata": {},
   "source": [
    "gamma를 증가시키면 종 모양 그래프가 좁아져서 각 샘플의 영향 범위가 작아진다. 결정 경계가 조금 더 불규칙해지고 각 샘플을 따라 구불구불하게 휘어진다. 반대로 작은 gamma 값은 넓은 종 모양 그래프를 만들며 샘플이 넓은 범위에 걸쳐 영향을 주므로 결정 경계가 더 부드러워진다. 결국 하이퍼파라미터 감마가 규제의 역할을 한다. 모델이 과대적합일 경우엔 감소시켜야 하고 과소적합일 경우엔 증가시켜야 한다."
   ]
  },
  {
   "cell_type": "markdown",
   "id": "3a08df7e",
   "metadata": {},
   "source": [
    "##### 경험적으로 선형 커널을 가장 먼저 시도하는 것이 좋다. (LinearSVC가 SVC(\"linear\")보다 훨씬 빠르다. 특히 훈련 세트가 아주 크거나 특성 수가 많을 경우에 그렇다. 훈련세트가 너무 크지 않다면 가우시안 RBF커널도 시도해보면 좋다. 대부분의 경우 이 커널이 잘 들어맞는다."
   ]
  },
  {
   "cell_type": "markdown",
   "id": "3cc2398f",
   "metadata": {},
   "source": [
    "### 5.2.4 계산 복잡도"
   ]
  },
  {
   "cell_type": "markdown",
   "id": "ddf665cf",
   "metadata": {},
   "source": [
    "LinearSVC 파이썬 클래스는 선형 SVM을 위한 최적화된 알고리즘을 구현한 liblinear 라이브러리를 기반으로 한다. 이 라이브러리는 커널 트릭을 지원하지 않지만 훈련 샘플과 특성 수에 거의 선형적으로 늘어난다. \n",
    "#### \n",
    "SVC는 커널 트릭 알고리즘을 구현한 libsvm 라이브러리를 기반으로 한다. 이는 훈련 샘플 수가 커지면 엄청나게 느려진다. \n",
    "#### \n",
    "특성의 개수에는 희소 특성인 경우에는 잘 확장된다. 이런 경우 알고리즘의 성능이 샘플이 가진 0이 아닌 특성의 평균 수에 거의 비례한다."
   ]
  },
  {
   "cell_type": "markdown",
   "id": "f4157cd0",
   "metadata": {},
   "source": [
    "## 5.3 SVM 회귀"
   ]
  },
  {
   "cell_type": "code",
   "execution_count": 7,
   "id": "a30b9c9c",
   "metadata": {},
   "outputs": [
    {
     "data": {
      "text/plain": [
       "LinearSVR(epsilon=1.5)"
      ]
     },
     "execution_count": 7,
     "metadata": {},
     "output_type": "execute_result"
    }
   ],
   "source": [
    "from sklearn.svm import LinearSVR\n",
    "\n",
    "svm_reg = LinearSVR(epsilon=1.5)\n",
    "svm_reg.fit(X,y)"
   ]
  },
  {
   "cell_type": "code",
   "execution_count": 8,
   "id": "a2b8b4f3",
   "metadata": {},
   "outputs": [
    {
     "data": {
      "text/plain": [
       "SVR(C=100, degree=2, kernel='poly')"
      ]
     },
     "execution_count": 8,
     "metadata": {},
     "output_type": "execute_result"
    }
   ],
   "source": [
    "## SVR은 SVC의 회귀 버전이고 LinearSVR은 LinearSVC의 회귀 버전이다. LinearSVR은 필요한 시간이 훈련 세트의 크기에\n",
    "## 비례해서 선형적으로 늘어난다. 하지만 SVR은 훈련 세트가 커지면 훨씬 느려진다. \n",
    "from sklearn.svm import SVR\n",
    "\n",
    "svm_poly_reg = SVR(kernel=\"poly\", degree=2, C=100, epsilon=0.1)\n",
    "svm_poly_reg.fit(X,y)"
   ]
  },
  {
   "cell_type": "markdown",
   "id": "f1834faa",
   "metadata": {},
   "source": [
    "## 5.4 SVM 이론"
   ]
  },
  {
   "cell_type": "markdown",
   "id": "ca1d0f35",
   "metadata": {},
   "source": [
    "### 5.4.1 결정 함수와 예측"
   ]
  },
  {
   "cell_type": "markdown",
   "id": "9ee2386c",
   "metadata": {},
   "source": [
    "선형 SVM 분류기를 훈련한다는 것은 마진 오류를 하나도 발생하지 않거나(하드 마진) 제한적인 마진 오류를 가지면서(소프트 마진) 가능한 한 마진을 크게 하는 w와 b를 찾는 것이다. "
   ]
  },
  {
   "cell_type": "markdown",
   "id": "d7dce555",
   "metadata": {},
   "source": [
    "### 5.4.2 목적 함수"
   ]
  },
  {
   "cell_type": "markdown",
   "id": "791ff4ec",
   "metadata": {},
   "source": [
    "결정 함수의 기울기를 생각해보면 이는 가중치 벡터의 노름 ||w||와 같다. 이 기울기를 2로 나누면 결정 함수의 값이 +-1이 되는 점들이 결정 경계로부터 2배만큼 더 멀어진다. 즉 기울기를 2로 나누는 것은 마진에 2를 곱하는 것과 같다. 마진을 크게 하기 위해 ||w||를 최소화하려고 한다. 마진 오류를 하나도 만들지 않으려면(하드 마진), 결정 함수가 모든 양성 훈련 샘플에서는 1보다 커야 하고 음성 훈련 샘플에서는 -1보다 작아야 한다. 음성 샘플(y=0)일 때 t=-1로, 양성 샘플(y=1)일 때 t=1로 정의하면 앞서 말한 제약 조건을 모든 샘플에서 t(wx+b)=>1로 표현할 수 있다."
   ]
  },
  {
   "cell_type": "markdown",
   "id": "f47c54c3",
   "metadata": {},
   "source": [
    "소프트 마진 분류기의 목적 함수를 구성하려면 각 샘플에 대해 슬랙 변수 제타=>0을 도입해야 한다. 제타는 i번째 샘플이 얼마나 마진을 위반할지 정한다. 1) 마진 오류를 최소화하기 이해 가능한 한 슬랙 변수의 값을 작게 만드는 것, 2) 마진을 크게 하기 위해 1/2w^Tw를 가능한 한 작게 만드는 것 -> 여기서 하이퍼파라미터 C가 등장함 "
   ]
  },
  {
   "cell_type": "markdown",
   "id": "a5e744c8",
   "metadata": {},
   "source": [
    "### 5.4.3 콰드라틱 프로그래밍"
   ]
  },
  {
   "cell_type": "markdown",
   "id": "b9123a9c",
   "metadata": {},
   "source": [
    "하드 마진과 소프트 마진 문제는 모두 선형적인 제약 조건이 있는 볼록 함수의 이차 최적화 문제이다. 이런 문제를 콰드라틱 프로그래밍(quadratic programming)문제라고 한다. "
   ]
  },
  {
   "cell_type": "markdown",
   "id": "b0509aa9",
   "metadata": {},
   "source": [
    "하드 마진 선형 SVM분류기를 훈련시키는 한 가지 방법은 이미 준비되어 있는 QP 알고리즘에 관련 파라미터를 전달하는 것. 결과 벡터 p는 편향 b=p_0와 특성 가중치 w=p을 담고 있다. 비슷하게 소프트 마진 문제에서도 QP 알고리즘을 사용할 수 있다. 커널 트릭을 사용하려면 제약이 있는 최적화 문제를 다른 형태로 바꿔야 한다. "
   ]
  },
  {
   "cell_type": "markdown",
   "id": "1044b495",
   "metadata": {},
   "source": [
    "### 5.4.4 쌍대 문제"
   ]
  },
  {
   "cell_type": "markdown",
   "id": "bf440747",
   "metadata": {},
   "source": [
    "원 문제라는 제약이 있는 최적화 문제가 주어지면 쌍대 문제라고 하는 깊게 관련된 다른 문제로 표현할 수 있다. 일반적으로 쌍대 문제 해는 원 문제 해의 하한값이지만, 어떤 조건하에서는 원 문제와 똑같은 해를 제공한다. -> SVM 문제는 이 조건을 만족시킨다. 따라서 원문제 또는 쌍대문제 중 하나를 선택하여 풀 수 있다. 둘 다 같은 해를 제공한다. "
   ]
  },
  {
   "cell_type": "markdown",
   "id": "35690c1c",
   "metadata": {},
   "source": [
    "훈련 샘플 수가 특성 개수보다 작을 때 원 문제보다 쌍대 문제를 푸는 것이 더 빠르다. 더 중요한 것은 원 문제에서는 적용이 안되는 커널 트릭을 가능하게 한다. "
   ]
  },
  {
   "cell_type": "markdown",
   "id": "f0332e71",
   "metadata": {},
   "source": [
    "### 5.4.5 커널 SVM"
   ]
  },
  {
   "cell_type": "markdown",
   "id": "6c88d055",
   "metadata": {},
   "source": [
    "머신러닝에서 커널은 변환 파이를 계산하지 않고(또는 파이를 모르더라도) 원래 벡터 a와 b에 기반하여 점곱을 계산할 수 있는 함수이다. "
   ]
  },
  {
   "cell_type": "markdown",
   "id": "5c7549ab",
   "metadata": {},
   "source": [
    "예측을 만드는 데는 전체 샘플이 아니라 서포트 벡터와 새입력 벡터 간의 점곱만 계산하면 된다. 물론 편향도 커널 트릭을 사용해 계산해야 한다. "
   ]
  },
  {
   "cell_type": "markdown",
   "id": "dc182206",
   "metadata": {},
   "source": [
    "### 5.4.6 온라인 SVM"
   ]
  },
  {
   "cell_type": "markdown",
   "id": "479b8843",
   "metadata": {},
   "source": [
    "온라인 학습은 새로운 샘플이 생겼을 때 점진적으로 학습하는 것을 의미한다. \n",
    "온라인 SVM 분류기를 구현하는 한 가지 방법은 원 문제로부터 유도된 비용 함수를 최소화하기 위한 경사 하강법을 사용하는 것이다. (예를 들면 SGDClassifier를 사용한다.) 하지만 경사하강법은 QP기반의 방법보다 훨씬 느리게 수렴한다. "
   ]
  },
  {
   "cell_type": "markdown",
   "id": "94824efc",
   "metadata": {},
   "source": [
    "#### 힌지 손실"
   ]
  },
  {
   "cell_type": "markdown",
   "id": "5852896f",
   "metadata": {},
   "source": [
    "max(0,1-t) 함수를 힌지 손실 함수라고 부른다. t=1에서 미분 가능하지 않지만, 라쏘 회귀처럼 t=1에서 서브그레이디언트를 사용해 경사 하강법을 사용할 수 있다. "
   ]
  },
  {
   "cell_type": "code",
   "execution_count": 12,
   "id": "1ceec7d0",
   "metadata": {},
   "outputs": [
    {
     "data": {
      "text/plain": [
       "SVC(C=inf, kernel='linear')"
      ]
     },
     "execution_count": 12,
     "metadata": {},
     "output_type": "execute_result"
    }
   ],
   "source": [
    "from sklearn.svm import SVC\n",
    "from sklearn import datasets\n",
    "\n",
    "iris = datasets.load_iris()\n",
    "X = iris[\"data\"][:, (2, 3)]  # 꽃잎 길이, 꽃잎 너비\n",
    "y = iris[\"target\"]\n",
    "\n",
    "setosa_or_versicolor = (y == 0) | (y == 1)\n",
    "X = X[setosa_or_versicolor]\n",
    "y = y[setosa_or_versicolor]\n",
    "\n",
    "# SVM 분류 모델\n",
    "svm_clf = SVC(kernel=\"linear\", C=float(\"inf\"))\n",
    "svm_clf.fit(X, y)"
   ]
  },
  {
   "cell_type": "code",
   "execution_count": 14,
   "id": "66a81464",
   "metadata": {},
   "outputs": [
    {
     "data": {
      "image/png": "[encoded data removed]",
      "text/plain": [
       "<Figure size 1000x270 with 2 Axes>"
      ]
     },
     "metadata": {},
     "output_type": "display_data"
    }
   ],
   "source": [
    "import matplotlib.pyplot as plt\n",
    "x0 = np.linspace(0, 5.5, 200)\n",
    "pred_1 = 5*x0 - 20\n",
    "pred_2 = x0 - 1.8\n",
    "pred_3 = 0.1 * x0 + 0.5\n",
    "\n",
    "def plot_svc_decision_boundary(svm_clf, xmin, xmax):\n",
    "    w = svm_clf.coef_[0]\n",
    "    b = svm_clf.intercept_[0]\n",
    "\n",
    "    # 결정 경계에서 w0*x0 + w1*x1 + b = 0 이므로\n",
    "    # => x1 = -w0/w1 * x0 - b/w1\n",
    "    x0 = np.linspace(xmin, xmax, 200)\n",
    "    decision_boundary = -w[0]/w[1] * x0 - b/w[1]\n",
    "\n",
    "    margin = 1/w[1]\n",
    "    gutter_up = decision_boundary + margin\n",
    "    gutter_down = decision_boundary - margin\n",
    "\n",
    "    svs = svm_clf.support_vectors_\n",
    "    plt.scatter(svs[:, 0], svs[:, 1], s=180, facecolors='#FFAAAA')\n",
    "    plt.plot(x0, decision_boundary, \"k-\", linewidth=2)\n",
    "    plt.plot(x0, gutter_up, \"k--\", linewidth=2)\n",
    "    plt.plot(x0, gutter_down, \"k--\", linewidth=2)\n",
    "\n",
    "fig, axes = plt.subplots(ncols=2, figsize=(10,2.7), sharey=True)\n",
    "\n",
    "plt.sca(axes[0])\n",
    "plt.plot(x0, pred_1, \"g--\", linewidth=2)\n",
    "plt.plot(x0, pred_2, \"m-\", linewidth=2)\n",
    "plt.plot(x0, pred_3, \"r-\", linewidth=2)\n",
    "plt.plot(X[:, 0][y==1], X[:, 1][y==1], \"bs\", label=\"Iris versicolor\")\n",
    "plt.plot(X[:, 0][y==0], X[:, 1][y==0], \"yo\", label=\"Iris setosa\")\n",
    "plt.xlabel(\"Petal length\", fontsize=14)\n",
    "plt.ylabel(\"Petal width\", fontsize=14)\n",
    "plt.legend(loc=\"upper left\", fontsize=14)\n",
    "plt.axis([0, 5.5, 0, 2])\n",
    "\n",
    "plt.sca(axes[1])\n",
    "plot_svc_decision_boundary(svm_clf, 0, 5.5)\n",
    "plt.plot(X[:, 0][y==1], X[:, 1][y==1], \"bs\")\n",
    "plt.plot(X[:, 0][y==0], X[:, 1][y==0], \"yo\")\n",
    "plt.xlabel(\"Petal length\", fontsize=14)\n",
    "plt.axis([0, 5.5, 0, 2])\n",
    "\n",
    "\n",
    "plt.show()"
   ]
  },
  {
   "cell_type": "code",
   "execution_count": 15,
   "id": "7c0180af",
   "metadata": {},
   "outputs": [
    {
     "data": {
      "text/plain": [
       "(-2.0, 2.0, -2.0, 2.0)"
      ]
     },
     "execution_count": 15,
     "metadata": {},
     "output_type": "execute_result"
    },
    {
     "data": {
      "image/png": "[encoded data removed]",
      "text/plain": [
       "<Figure size 900x270 with 2 Axes>"
      ]
     },
     "metadata": {},
     "output_type": "display_data"
    }
   ],
   "source": [
    "Xs = np.array([[1, 50], [5, 20], [3, 80], [5, 60]]).astype(np.float64)\n",
    "ys = np.array([0, 0, 1, 1])\n",
    "svm_clf = SVC(kernel=\"linear\", C=100)\n",
    "svm_clf.fit(Xs, ys)\n",
    "\n",
    "plt.figure(figsize=(9,2.7))\n",
    "plt.subplot(121)\n",
    "plt.plot(Xs[:, 0][ys==1], Xs[:, 1][ys==1], \"bo\")\n",
    "plt.plot(Xs[:, 0][ys==0], Xs[:, 1][ys==0], \"ms\")\n",
    "plot_svc_decision_boundary(svm_clf, 0, 6)\n",
    "plt.xlabel(\"$x_0$\", fontsize=20)\n",
    "plt.ylabel(\"$x_1$    \", fontsize=20, rotation=0)\n",
    "plt.title(\"Unscaled\", fontsize=16)\n",
    "plt.axis([0, 6, 0, 90])\n",
    "\n",
    "from sklearn.preprocessing import StandardScaler\n",
    "scaler = StandardScaler()\n",
    "X_scaled = scaler.fit_transform(Xs)\n",
    "svm_clf.fit(X_scaled, ys)\n",
    "\n",
    "plt.subplot(122)\n",
    "plt.plot(X_scaled[:, 0][ys==1], X_scaled[:, 1][ys==1], \"bo\")\n",
    "plt.plot(X_scaled[:, 0][ys==0], X_scaled[:, 1][ys==0], \"ms\")\n",
    "plot_svc_decision_boundary(svm_clf, -2, 2)\n",
    "plt.xlabel(\"$x'_0$\", fontsize=20)\n",
    "plt.ylabel(\"$x'_1$  \", fontsize=20, rotation=0)\n",
    "plt.title(\"Scaled\", fontsize=16)\n",
    "plt.axis([-2, 2, -2, 2])"
   ]
  },
  {
   "cell_type": "code",
   "execution_count": null,
   "id": "9fe5d87f",
   "metadata": {},
   "outputs": [],
   "source": []
  }
 ],
 "metadata": {
  "kernelspec": {
   "display_name": "Python 3 (ipykernel)",
   "language": "python",
   "name": "python3"
  },
  "language_info": {
   "codemirror_mode": {
    "name": "ipython",
    "version": 3
   },
   "file_extension": ".py",
   "mimetype": "text/x-python",
   "name": "python",
   "nbconvert_exporter": "python",
   "pygments_lexer": "ipython3",
   "version": "3.9.13"
  }
 },
 "nbformat": 4,
 "nbformat_minor": 5
}
